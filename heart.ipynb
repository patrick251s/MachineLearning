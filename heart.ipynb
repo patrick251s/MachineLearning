{
  "nbformat": 4,
  "nbformat_minor": 0,
  "metadata": {
    "colab": {
      "provenance": [],
      "authorship_tag": "ABX9TyMGG9zgWCx3JCbG+u1UNuw1",
      "include_colab_link": true
    },
    "kernelspec": {
      "name": "python3",
      "display_name": "Python 3"
    },
    "language_info": {
      "name": "python"
    }
  },
  "cells": [
    {
      "cell_type": "markdown",
      "metadata": {
        "id": "view-in-github",
        "colab_type": "text"
      },
      "source": [
        "<a href=\"https://colab.research.google.com/github/patrick251s/MachineLearning/blob/main/heart.ipynb\" target=\"_parent\"><img src=\"https://colab.research.google.com/assets/colab-badge.svg\" alt=\"Open In Colab\"/></a>"
      ]
    },
    {
      "cell_type": "code",
      "execution_count": 2,
      "metadata": {
        "colab": {
          "base_uri": "https://localhost:8080/"
        },
        "id": "AikXmEshCxEX",
        "outputId": "d7da16a5-bf5e-45a2-b24c-fda965807fd3"
      },
      "outputs": [
        {
          "output_type": "stream",
          "name": "stdout",
          "text": [
            "(319795, 18)\n",
            "  HeartDisease    BMI Smoking AlcoholDrinking Stroke  PhysicalHealth  \\\n",
            "0           No  16.60     Yes              No     No             3.0   \n",
            "1           No  20.34      No              No    Yes             0.0   \n",
            "2           No  26.58     Yes              No     No            20.0   \n",
            "3           No  24.21      No              No     No             0.0   \n",
            "4           No  23.71      No              No     No            28.0   \n",
            "\n",
            "   MentalHealth DiffWalking     Sex  AgeCategory   Race Diabetic  \\\n",
            "0          30.0          No  Female        55-59  White      Yes   \n",
            "1           0.0          No  Female  80 or older  White       No   \n",
            "2          30.0          No    Male        65-69  White      Yes   \n",
            "3           0.0          No  Female        75-79  White       No   \n",
            "4           0.0         Yes  Female        40-44  White       No   \n",
            "\n",
            "  PhysicalActivity  GenHealth  SleepTime Asthma KidneyDisease SkinCancer  \n",
            "0              Yes  Very good        5.0    Yes            No        Yes  \n",
            "1              Yes  Very good        7.0     No            No         No  \n",
            "2              Yes       Fair        8.0    Yes            No         No  \n",
            "3               No       Good        6.0     No            No        Yes  \n",
            "4              Yes  Very good        8.0     No            No         No  \n"
          ]
        }
      ],
      "source": [
        "import pandas as pd\n",
        "import numpy as np\n",
        "import matplotlib.pyplot as plt\n",
        "\n",
        "data = pd.read_csv(\"heart_2020_cleaned.csv\")\n",
        "print(data.shape)\n",
        "print(data.head())"
      ]
    },
    {
      "cell_type": "code",
      "source": [
        "print(data[\"BMI\"].unique())\n",
        "\n",
        "columns_with_nan = data.isna().any()\n",
        "print(columns_with_nan)\n",
        "\n",
        "for column in data.columns:\n",
        "  print(column)\n",
        "  print(data[column].unique())\n",
        "  print(\"=====================================================================\")"
      ],
      "metadata": {
        "colab": {
          "base_uri": "https://localhost:8080/"
        },
        "id": "g12ydbWxEVwX",
        "outputId": "3d7e6277-29bb-44fd-9f3e-fb64179082d0"
      },
      "execution_count": null,
      "outputs": [
        {
          "output_type": "stream",
          "name": "stdout",
          "text": [
            "[16.6  20.34 26.58 ... 62.42 51.46 46.56]\n",
            "HeartDisease        False\n",
            "BMI                 False\n",
            "Smoking             False\n",
            "AlcoholDrinking     False\n",
            "Stroke              False\n",
            "PhysicalHealth      False\n",
            "MentalHealth        False\n",
            "DiffWalking         False\n",
            "Sex                 False\n",
            "AgeCategory         False\n",
            "Race                False\n",
            "Diabetic            False\n",
            "PhysicalActivity    False\n",
            "GenHealth           False\n",
            "SleepTime           False\n",
            "Asthma              False\n",
            "KidneyDisease       False\n",
            "SkinCancer          False\n",
            "dtype: bool\n",
            "HeartDisease\n",
            "['No' 'Yes']\n",
            "=====================================================================\n",
            "BMI\n",
            "[16.6  20.34 26.58 ... 62.42 51.46 46.56]\n",
            "=====================================================================\n",
            "Smoking\n",
            "['Yes' 'No']\n",
            "=====================================================================\n",
            "AlcoholDrinking\n",
            "['No' 'Yes']\n",
            "=====================================================================\n",
            "Stroke\n",
            "['No' 'Yes']\n",
            "=====================================================================\n",
            "PhysicalHealth\n",
            "[ 3.  0. 20. 28.  6. 15.  5. 30.  7.  1.  2. 21.  4. 10. 14. 18.  8. 25.\n",
            " 16. 29. 27. 17. 24. 12. 23. 26. 22. 19.  9. 13. 11.]\n",
            "=====================================================================\n",
            "MentalHealth\n",
            "[30.  0.  2.  5. 15.  8.  4.  3. 10. 14. 20.  1.  7. 24.  9. 28. 16. 12.\n",
            "  6. 25. 17. 18. 21. 29. 22. 13. 23. 27. 26. 11. 19.]\n",
            "=====================================================================\n",
            "DiffWalking\n",
            "['No' 'Yes']\n",
            "=====================================================================\n",
            "Sex\n",
            "['Female' 'Male']\n",
            "=====================================================================\n",
            "AgeCategory\n",
            "['55-59' '80 or older' '65-69' '75-79' '40-44' '70-74' '60-64' '50-54'\n",
            " '45-49' '18-24' '35-39' '30-34' '25-29']\n",
            "=====================================================================\n",
            "Race\n",
            "['White' 'Black' 'Asian' 'American Indian/Alaskan Native' 'Other'\n",
            " 'Hispanic']\n",
            "=====================================================================\n",
            "Diabetic\n",
            "['Yes' 'No' 'No, borderline diabetes' 'Yes (during pregnancy)']\n",
            "=====================================================================\n",
            "PhysicalActivity\n",
            "['Yes' 'No']\n",
            "=====================================================================\n",
            "GenHealth\n",
            "['Very good' 'Fair' 'Good' 'Poor' 'Excellent']\n",
            "=====================================================================\n",
            "SleepTime\n",
            "[ 5.  7.  8.  6. 12.  4.  9. 10. 15.  3.  2.  1. 16. 18. 14. 20. 11. 13.\n",
            " 17. 24. 19. 21. 22. 23.]\n",
            "=====================================================================\n",
            "Asthma\n",
            "['Yes' 'No']\n",
            "=====================================================================\n",
            "KidneyDisease\n",
            "['No' 'Yes']\n",
            "=====================================================================\n",
            "SkinCancer\n",
            "['Yes' 'No']\n",
            "=====================================================================\n"
          ]
        }
      ]
    },
    {
      "cell_type": "code",
      "source": [
        "columnsForOneHot = [\"Smoking\", \"AlcoholDrinking\", \"Stroke\", \"DiffWalking\", \"Sex\", \"AgeCategory\", \"Race\", \"Diabetic\", \"PhysicalActivity\", \"GenHealth\", \"Asthma\", \"KidneyDisease\", \"SkinCancer\"]\n",
        "encoded_data = pd.get_dummies(data, columns=columnsForOneHot)\n",
        "# Pojawił się nan\n",
        "cleaned_data = encoded_data.dropna()\n",
        "print(cleaned_data.head())\n",
        "print(encoded_data.shape)\n",
        "print(cleaned_data.shape)"
      ],
      "metadata": {
        "colab": {
          "base_uri": "https://localhost:8080/"
        },
        "id": "_me4YWYbFeDE",
        "outputId": "8a6f2bb9-c710-49b8-82e1-03fbd6d65d67"
      },
      "execution_count": null,
      "outputs": [
        {
          "output_type": "stream",
          "name": "stdout",
          "text": [
            "  HeartDisease    BMI  PhysicalHealth  MentalHealth  SleepTime  Smoking_No  \\\n",
            "0           No  16.60             3.0          30.0        5.0           0   \n",
            "1           No  20.34             0.0           0.0        7.0           1   \n",
            "2           No  26.58            20.0          30.0        8.0           0   \n",
            "3           No  24.21             0.0           0.0        6.0           1   \n",
            "4           No  23.71            28.0           0.0        8.0           1   \n",
            "\n",
            "   Smoking_Yes  AlcoholDrinking_No  AlcoholDrinking_Yes  Stroke_No  ...  \\\n",
            "0            1                   1                    0          1  ...   \n",
            "1            0                   1                    0          0  ...   \n",
            "2            1                   1                    0          1  ...   \n",
            "3            0                   1                    0          1  ...   \n",
            "4            0                   1                    0          1  ...   \n",
            "\n",
            "   GenHealth_Fair  GenHealth_Good  GenHealth_Poor  GenHealth_Very good  \\\n",
            "0               0               0               0                    1   \n",
            "1               0               0               0                    1   \n",
            "2               1               0               0                    0   \n",
            "3               0               1               0                    0   \n",
            "4               0               0               0                    1   \n",
            "\n",
            "   Asthma_No  Asthma_Yes  KidneyDisease_No  KidneyDisease_Yes  SkinCancer_No  \\\n",
            "0          0           1                 1                  0              0   \n",
            "1          1           0                 1                  0              1   \n",
            "2          0           1                 1                  0              1   \n",
            "3          1           0                 1                  0              0   \n",
            "4          1           0                 1                  0              1   \n",
            "\n",
            "   SkinCancer_Yes  \n",
            "0               1  \n",
            "1               0  \n",
            "2               0  \n",
            "3               1  \n",
            "4               0  \n",
            "\n",
            "[5 rows x 51 columns]\n",
            "(319795, 51)\n",
            "(319795, 51)\n"
          ]
        }
      ]
    },
    {
      "cell_type": "code",
      "source": [
        "from sklearn.model_selection import train_test_split\n",
        "\n",
        "# Ze zbioru danych usuwamy kolumnę, którą chcemy przewidywać\n",
        "X = cleaned_data.drop(\"HeartDisease\", axis=1)\n",
        "y = cleaned_data[\"HeartDisease\"]\n",
        "\n",
        "# Podział na dane treningowe i testowe\n",
        "X_train, X_test, y_train, y_test = train_test_split(X, y, test_size=0.2, random_state=42)\n",
        "\n",
        "columns_with_nan = cleaned_data.isna().any()\n",
        "print(columns_with_nan)\n",
        "\n"
      ],
      "metadata": {
        "colab": {
          "base_uri": "https://localhost:8080/"
        },
        "id": "cGdzb6JfFeID",
        "outputId": "6e50d75e-c580-4aa7-a22d-1500075e6de0"
      },
      "execution_count": null,
      "outputs": [
        {
          "output_type": "stream",
          "name": "stdout",
          "text": [
            "HeartDisease                           False\n",
            "BMI                                    False\n",
            "PhysicalHealth                         False\n",
            "MentalHealth                           False\n",
            "SleepTime                              False\n",
            "Smoking_No                             False\n",
            "Smoking_Yes                            False\n",
            "AlcoholDrinking_No                     False\n",
            "AlcoholDrinking_Yes                    False\n",
            "Stroke_No                              False\n",
            "Stroke_Yes                             False\n",
            "DiffWalking_No                         False\n",
            "DiffWalking_Yes                        False\n",
            "Sex_Female                             False\n",
            "Sex_Male                               False\n",
            "AgeCategory_18-24                      False\n",
            "AgeCategory_25-29                      False\n",
            "AgeCategory_30-34                      False\n",
            "AgeCategory_35-39                      False\n",
            "AgeCategory_40-44                      False\n",
            "AgeCategory_45-49                      False\n",
            "AgeCategory_50-54                      False\n",
            "AgeCategory_55-59                      False\n",
            "AgeCategory_60-64                      False\n",
            "AgeCategory_65-69                      False\n",
            "AgeCategory_70-74                      False\n",
            "AgeCategory_75-79                      False\n",
            "AgeCategory_80 or older                False\n",
            "Race_American Indian/Alaskan Native    False\n",
            "Race_Asian                             False\n",
            "Race_Black                             False\n",
            "Race_Hispanic                          False\n",
            "Race_Other                             False\n",
            "Race_White                             False\n",
            "Diabetic_No                            False\n",
            "Diabetic_No, borderline diabetes       False\n",
            "Diabetic_Yes                           False\n",
            "Diabetic_Yes (during pregnancy)        False\n",
            "PhysicalActivity_No                    False\n",
            "PhysicalActivity_Yes                   False\n",
            "GenHealth_Excellent                    False\n",
            "GenHealth_Fair                         False\n",
            "GenHealth_Good                         False\n",
            "GenHealth_Poor                         False\n",
            "GenHealth_Very good                    False\n",
            "Asthma_No                              False\n",
            "Asthma_Yes                             False\n",
            "KidneyDisease_No                       False\n",
            "KidneyDisease_Yes                      False\n",
            "SkinCancer_No                          False\n",
            "SkinCancer_Yes                         False\n",
            "dtype: bool\n"
          ]
        }
      ]
    },
    {
      "cell_type": "code",
      "source": [
        "from sklearn.linear_model import LogisticRegression\n",
        "\n",
        "# Inicjalizacja modelu regresji logistycznej\n",
        "model = LogisticRegression(max_iter=1000)\n",
        "\n",
        "# Trenowanie modelu na danych treningowych\n",
        "model.fit(X_train, y_train)\n",
        "\n",
        "# Predykcja dla danych testowych\n",
        "y_pred = model.predict(X_test)\n"
      ],
      "metadata": {
        "id": "2KXT4uS-Hjlb"
      },
      "execution_count": null,
      "outputs": []
    },
    {
      "cell_type": "code",
      "source": [
        "from sklearn.metrics import accuracy_score\n",
        "print(accuracy_score(y_test, y_pred))\n",
        "\n",
        "feature_importance = model.coef_[0]\n",
        "fi_df = pd.DataFrame({\"Cecha\":X_train.columns, \"Wpływ\":feature_importance})\n",
        "sorted_fi = fi_df.sort_values(by=\"Wpływ\", ascending=False)\n",
        "print(sorted_fi)"
      ],
      "metadata": {
        "colab": {
          "base_uri": "https://localhost:8080/"
        },
        "id": "ZaNwFZT6Q44T",
        "outputId": "141a0222-2173-493d-a4fc-19a113370776"
      },
      "execution_count": null,
      "outputs": [
        {
          "output_type": "stream",
          "name": "stdout",
          "text": [
            "0.9138666958520302\n",
            "                                  Cecha     Wpływ\n",
            "26              AgeCategory_80 or older  1.582037\n",
            "25                    AgeCategory_75-79  1.325327\n",
            "24                    AgeCategory_70-74  1.114092\n",
            "42                       GenHealth_Poor  0.855058\n",
            "23                    AgeCategory_65-69  0.843587\n",
            "22                    AgeCategory_60-64  0.597148\n",
            "40                       GenHealth_Fair  0.471016\n",
            "21                    AgeCategory_55-59  0.346948\n",
            "9                            Stroke_Yes  0.338296\n",
            "35                         Diabetic_Yes  0.200637\n",
            "13                             Sex_Male  0.183979\n",
            "27  Race_American Indian/Alaskan Native  0.162777\n",
            "47                    KidneyDisease_Yes  0.108049\n",
            "20                    AgeCategory_50-54  0.101904\n",
            "32                           Race_White  0.067474\n",
            "31                           Race_Other  0.048258\n",
            "0                                   BMI  0.008615\n",
            "2                          MentalHealth  0.003982\n",
            "1                        PhysicalHealth  0.002959\n",
            "5                           Smoking_Yes  0.002078\n",
            "41                       GenHealth_Good -0.013034\n",
            "3                             SleepTime -0.025760\n",
            "45                           Asthma_Yes -0.045235\n",
            "6                    AlcoholDrinking_No -0.053005\n",
            "11                      DiffWalking_Yes -0.067454\n",
            "30                        Race_Hispanic -0.081421\n",
            "36      Diabetic_Yes (during pregnancy) -0.113727\n",
            "49                       SkinCancer_Yes -0.118340\n",
            "34     Diabetic_No, borderline diabetes -0.152516\n",
            "38                 PhysicalActivity_Yes -0.168670\n",
            "37                  PhysicalActivity_No -0.184863\n",
            "29                           Race_Black -0.198875\n",
            "48                        SkinCancer_No -0.235192\n",
            "10                       DiffWalking_No -0.286079\n",
            "33                          Diabetic_No -0.287928\n",
            "7                   AlcoholDrinking_Yes -0.300528\n",
            "44                            Asthma_No -0.308298\n",
            "19                    AgeCategory_45-49 -0.308763\n",
            "28                           Race_Asian -0.351746\n",
            "4                            Smoking_No -0.355611\n",
            "46                     KidneyDisease_No -0.461582\n",
            "12                           Sex_Female -0.537512\n",
            "43                  GenHealth_Very good -0.584039\n",
            "18                    AgeCategory_40-44 -0.619745\n",
            "8                             Stroke_No -0.691829\n",
            "17                    AgeCategory_35-39 -1.075798\n",
            "39                  GenHealth_Excellent -1.082533\n",
            "16                    AgeCategory_30-34 -1.194253\n",
            "15                    AgeCategory_25-29 -1.436127\n",
            "14                    AgeCategory_18-24 -1.629890\n"
          ]
        }
      ]
    },
    {
      "cell_type": "code",
      "source": [
        "from sklearn import tree\n",
        "\n",
        "# Inicjalizacja modelu drzewa decyzyjnego\n",
        "model2 = tree.DecisionTreeClassifier()\n",
        "\n",
        "# Uczenie modelu\n",
        "model2.fit(X_train, y_train)\n",
        "\n",
        "# Predykcja na zbiorze testowym\n",
        "predictions = model2.predict(X_test)\n",
        "\n",
        "accuracy2 = accuracy_score(y_test, predictions)\n",
        "accuracy2"
      ],
      "metadata": {
        "colab": {
          "base_uri": "https://localhost:8080/"
        },
        "id": "94H4Sns8NqHu",
        "outputId": "f64906b1-768a-4822-e6c6-16815ba1b3b4"
      },
      "execution_count": null,
      "outputs": [
        {
          "output_type": "execute_result",
          "data": {
            "text/plain": [
              "0.8639440891821323"
            ]
          },
          "metadata": {},
          "execution_count": 29
        }
      ]
    }
  ]
}