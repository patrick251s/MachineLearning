{
  "nbformat": 4,
  "nbformat_minor": 0,
  "metadata": {
    "colab": {
      "provenance": [],
      "authorship_tag": "ABX9TyPhlayzn4Yi1ziJmnFJzsPw",
      "include_colab_link": true
    },
    "kernelspec": {
      "name": "python3",
      "display_name": "Python 3"
    },
    "language_info": {
      "name": "python"
    }
  },
  "cells": [
    {
      "cell_type": "markdown",
      "metadata": {
        "id": "view-in-github",
        "colab_type": "text"
      },
      "source": [
        "<a href=\"https://colab.research.google.com/github/patrick251s/MachineLearning/blob/main/faceRecognition.ipynb\" target=\"_parent\"><img src=\"https://colab.research.google.com/assets/colab-badge.svg\" alt=\"Open In Colab\"/></a>"
      ]
    },
    {
      "cell_type": "code",
      "execution_count": null,
      "metadata": {
        "colab": {
          "base_uri": "https://localhost:8080/"
        },
        "id": "8IoWom9NGNG_",
        "outputId": "24bde62d-88d8-4983-ade2-29752f152bf0"
      },
      "outputs": [
        {
          "output_type": "stream",
          "name": "stdout",
          "text": [
            "Drive already mounted at /gdrive; to attempt to forcibly remount, call drive.mount(\"/gdrive\", force_remount=True).\n",
            "(1562, 256, 256, 3)\n",
            "(1562,)\n"
          ]
        }
      ],
      "source": [
        "from google.colab import drive\n",
        "from google.colab import files\n",
        "import cv2\n",
        "import os\n",
        "import numpy as np\n",
        "\n",
        "# Montuj Google Drive\n",
        "drive.mount('/gdrive')\n",
        "\n",
        "folder_path_men = '/gdrive/My Drive/Faces/Male Faces'\n",
        "folder_path_women = '/gdrive/My Drive/Faces/Female Faces'\n",
        "\n",
        "imagesLength = 0\n",
        "# Przetwarzanie zdjęć w folderze\n",
        "for filename in os.listdir(folder_path_men):\n",
        "    imagesLength += 1\n",
        "for filename in os.listdir(folder_path_women):\n",
        "    imagesLength += 1\n",
        "images = np.empty((imagesLength-5, 256, 256, 3))\n",
        "labels = np.empty((imagesLength-5, ))\n",
        "i = 0\n",
        "for filename in os.listdir(folder_path_men):\n",
        "    # Otwarcie zdjęcia\n",
        "    image_path = os.path.join(folder_path_men, filename)\n",
        "    img = cv2.imread(image_path)\n",
        "    images[i] = img\n",
        "    labels[i] = 0\n",
        "    i += 1\n",
        "for filename in os.listdir(folder_path_women):\n",
        "    # Otwarcie zdjęcia\n",
        "    try:\n",
        "      image_path = os.path.join(folder_path_women, filename)\n",
        "      img = cv2.imread(image_path)\n",
        "      images[i] = img\n",
        "      labels[i] = 1\n",
        "      i += 1\n",
        "    except:\n",
        "      continue\n",
        "\n",
        "print(images.shape)\n",
        "print(labels.shape)\n",
        "\n"
      ]
    },
    {
      "cell_type": "code",
      "source": [],
      "metadata": {
        "id": "q2H4fzj0_CgG"
      },
      "execution_count": null,
      "outputs": []
    },
    {
      "cell_type": "code",
      "source": [
        "from tensorflow.python import train\n",
        "import pandas as pd\n",
        "import matplotlib.pyplot as plt\n",
        "from sklearn.model_selection import train_test_split\n",
        "from tensorflow import convert_to_tensor\n",
        "from tensorflow import keras\n",
        "from keras import models\n",
        "from keras import layers\n",
        "from keras.utils import to_categorical\n",
        "\n",
        "train_data, test_data, train_labels, test_labels = train_test_split(images, labels, test_size=0.2, random_state=42)\n",
        "print(train_labels)\n",
        "print(train_labels.size)\n",
        "#train_data = train_data.reshape((train_data.shape[0], 256*256*3))\n",
        "train_data = train_data.astype('float32') / 255\n",
        "#test_data = test_data.reshape((test_data.shape[0], 256*256*3))\n",
        "test_data = test_data.astype('float32') / 255\n",
        "\n",
        "train_labels = to_categorical(train_labels)\n",
        "test_labels = to_categorical(test_labels)\n",
        "\n",
        "# Definicja modelu\n",
        "model = keras.Sequential()\n",
        "#model.add(layers.Dense(512, activation='relu', input_shape=(256*256*3, )))\n",
        "#model.add(layers.Dense(2, activation=\"softmax\"))\n",
        "\n",
        "model.add(layers.Conv2D(32, (3, 3), activation='relu', input_shape=(256, 256, 3)))\n",
        "model.add(layers.MaxPooling2D((2, 2)))\n",
        "model.add(layers.Conv2D(64, (3, 3), activation='relu'))\n",
        "model.add(layers.MaxPooling2D((2, 2)))\n",
        "model.add(layers.Conv2D(128, (3, 3), activation='relu'))\n",
        "model.add(layers.MaxPooling2D((2, 2)))\n",
        "model.add(layers.Flatten())\n",
        "model.add(layers.Dense(64, activation='relu'))\n",
        "model.add(layers.Dense(2, activation='sigmoid'))\n",
        "\n",
        "# Kompilacja modelu\n",
        "model.compile(optimizer='rmsprop', loss='categorical_crossentropy', metrics=['accuracy'])\n",
        "\n",
        "# Trenowanie modelu\n",
        "model.fit(train_data, train_labels, epochs=4, batch_size=128)\n",
        "\n",
        "# Ocena modelu na danych testowych\n",
        "loss, accuracy = model.evaluate(test_data, test_labels)\n",
        "print('Test loss:', loss)\n",
        "print('Test accuracy:', accuracy)\n"
      ],
      "metadata": {
        "colab": {
          "base_uri": "https://localhost:8080/"
        },
        "id": "_si_34R8fWAU",
        "outputId": "4fb81564-4dbf-42c9-e393-22499524d1af"
      },
      "execution_count": null,
      "outputs": [
        {
          "output_type": "stream",
          "name": "stdout",
          "text": [
            "[1. 1. 0. ... 1. 1. 1.]\n",
            "1249\n",
            "Epoch 1/4\n",
            "10/10 [==============================] - 181s 18s/step - loss: 1.2160 - accuracy: 0.5020\n",
            "Epoch 2/4\n",
            "10/10 [==============================] - 174s 17s/step - loss: 0.7426 - accuracy: 0.5717\n",
            "Epoch 3/4\n",
            "10/10 [==============================] - 173s 17s/step - loss: 0.6855 - accuracy: 0.5548\n",
            "Epoch 4/4\n",
            "10/10 [==============================] - 174s 17s/step - loss: 0.6713 - accuracy: 0.5949\n",
            "10/10 [==============================] - 12s 1s/step - loss: 0.6571 - accuracy: 0.6326\n",
            "Test loss: 0.6570585370063782\n",
            "Test accuracy: 0.6325878500938416\n"
          ]
        }
      ]
    }
  ]
}