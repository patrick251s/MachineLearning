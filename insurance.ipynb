{
  "nbformat": 4,
  "nbformat_minor": 0,
  "metadata": {
    "colab": {
      "provenance": [],
      "authorship_tag": "ABX9TyM+OrlIhqmjdaPMNvIKXuZi",
      "include_colab_link": true
    },
    "kernelspec": {
      "name": "python3",
      "display_name": "Python 3"
    },
    "language_info": {
      "name": "python"
    }
  },
  "cells": [
    {
      "cell_type": "markdown",
      "metadata": {
        "id": "view-in-github",
        "colab_type": "text"
      },
      "source": [
        "<a href=\"https://colab.research.google.com/github/patrick251s/MachineLearning/blob/main/insurance.ipynb\" target=\"_parent\"><img src=\"https://colab.research.google.com/assets/colab-badge.svg\" alt=\"Open In Colab\"/></a>"
      ]
    },
    {
      "cell_type": "code",
      "execution_count": 1,
      "metadata": {
        "id": "7eCP8ZAppOoX",
        "colab": {
          "base_uri": "https://localhost:8080/"
        },
        "outputId": "4fee4065-6738-467e-b84a-f6ea596740cc"
      },
      "outputs": [
        {
          "output_type": "stream",
          "name": "stdout",
          "text": [
            "(1338, 7)\n",
            "   age     sex     bmi  children smoker     region      charges\n",
            "0   19  female  27.900         0    yes  southwest  16884.92400\n",
            "1   18    male  33.770         1     no  southeast   1725.55230\n",
            "2   28    male  33.000         3     no  southeast   4449.46200\n",
            "3   33    male  22.705         0     no  northwest  21984.47061\n",
            "4   32    male  28.880         0     no  northwest   3866.85520\n"
          ]
        }
      ],
      "source": [
        "import pandas as pd\n",
        "import numpy as np\n",
        "import matplotlib.pyplot as plt\n",
        "\n",
        "data = pd.read_csv(\"insurance.csv\")\n",
        "print(data.shape)\n",
        "print(data.head())"
      ]
    },
    {
      "cell_type": "code",
      "source": [
        "columns_with_nan = data.isna().any()\n",
        "print(columns_with_nan)"
      ],
      "metadata": {
        "colab": {
          "base_uri": "https://localhost:8080/"
        },
        "id": "po-esm3Yp3Yd",
        "outputId": "5c41fbb0-71ca-41d3-9e93-f7fb37a8fabc"
      },
      "execution_count": 2,
      "outputs": [
        {
          "output_type": "stream",
          "name": "stdout",
          "text": [
            "age         False\n",
            "sex         False\n",
            "bmi         False\n",
            "children    False\n",
            "smoker      False\n",
            "region      False\n",
            "charges     False\n",
            "dtype: bool\n"
          ]
        }
      ]
    },
    {
      "cell_type": "code",
      "source": [
        "columnsForOneHot = [\"sex\", \"smoker\", \"region\"]\n",
        "for column in columnsForOneHot:\n",
        "  print(column)\n",
        "  print(data[column].unique())\n",
        "  print(\"=====================================================================\")\n",
        "encoded_data = pd.get_dummies(data, columns=columnsForOneHot)\n",
        "\n",
        "columns_with_nan = encoded_data.isna().any()\n",
        "print(columns_with_nan)"
      ],
      "metadata": {
        "colab": {
          "base_uri": "https://localhost:8080/"
        },
        "id": "BuROGyp8p8hy",
        "outputId": "395a77be-1e17-4f89-b42a-662e06288c04"
      },
      "execution_count": 4,
      "outputs": [
        {
          "output_type": "stream",
          "name": "stdout",
          "text": [
            "sex\n",
            "['female' 'male']\n",
            "=====================================================================\n",
            "smoker\n",
            "['yes' 'no']\n",
            "=====================================================================\n",
            "region\n",
            "['southwest' 'southeast' 'northwest' 'northeast']\n",
            "=====================================================================\n",
            "age                 False\n",
            "bmi                 False\n",
            "children            False\n",
            "charges             False\n",
            "sex_female          False\n",
            "sex_male            False\n",
            "smoker_no           False\n",
            "smoker_yes          False\n",
            "region_northeast    False\n",
            "region_northwest    False\n",
            "region_southeast    False\n",
            "region_southwest    False\n",
            "dtype: bool\n"
          ]
        }
      ]
    },
    {
      "cell_type": "code",
      "source": [
        "print(encoded_data)"
      ],
      "metadata": {
        "colab": {
          "base_uri": "https://localhost:8080/"
        },
        "id": "panhbnudqY8r",
        "outputId": "b7543d2c-bdfe-4b2a-a798-6de1f7166474"
      },
      "execution_count": 5,
      "outputs": [
        {
          "output_type": "stream",
          "name": "stdout",
          "text": [
            "      age     bmi  children      charges  sex_female  sex_male  smoker_no  \\\n",
            "0      19  27.900         0  16884.92400           1         0          0   \n",
            "1      18  33.770         1   1725.55230           0         1          1   \n",
            "2      28  33.000         3   4449.46200           0         1          1   \n",
            "3      33  22.705         0  21984.47061           0         1          1   \n",
            "4      32  28.880         0   3866.85520           0         1          1   \n",
            "...   ...     ...       ...          ...         ...       ...        ...   \n",
            "1333   50  30.970         3  10600.54830           0         1          1   \n",
            "1334   18  31.920         0   2205.98080           1         0          1   \n",
            "1335   18  36.850         0   1629.83350           1         0          1   \n",
            "1336   21  25.800         0   2007.94500           1         0          1   \n",
            "1337   61  29.070         0  29141.36030           1         0          0   \n",
            "\n",
            "      smoker_yes  region_northeast  region_northwest  region_southeast  \\\n",
            "0              1                 0                 0                 0   \n",
            "1              0                 0                 0                 1   \n",
            "2              0                 0                 0                 1   \n",
            "3              0                 0                 1                 0   \n",
            "4              0                 0                 1                 0   \n",
            "...          ...               ...               ...               ...   \n",
            "1333           0                 0                 1                 0   \n",
            "1334           0                 1                 0                 0   \n",
            "1335           0                 0                 0                 1   \n",
            "1336           0                 0                 0                 0   \n",
            "1337           1                 0                 1                 0   \n",
            "\n",
            "      region_southwest  \n",
            "0                    1  \n",
            "1                    0  \n",
            "2                    0  \n",
            "3                    0  \n",
            "4                    0  \n",
            "...                ...  \n",
            "1333                 0  \n",
            "1334                 0  \n",
            "1335                 0  \n",
            "1336                 1  \n",
            "1337                 0  \n",
            "\n",
            "[1338 rows x 12 columns]\n"
          ]
        }
      ]
    },
    {
      "cell_type": "code",
      "source": [
        "from sklearn.model_selection import train_test_split\n",
        "\n",
        "X = encoded_data.drop(\"charges\", axis=1)\n",
        "y = encoded_data[\"charges\"]\n",
        "\n",
        "# Podział na dane treningowe i testowe\n",
        "X_train, X_test, y_train, y_test = train_test_split(X, y, test_size=0.2, random_state=42)"
      ],
      "metadata": {
        "id": "inCys0mxqi4F"
      },
      "execution_count": 10,
      "outputs": []
    },
    {
      "cell_type": "code",
      "source": [
        "from sklearn.linear_model import LinearRegression\n",
        "from sklearn.metrics import r2_score\n",
        "from sklearn.metrics import mean_squared_error\n",
        "\n",
        "model = LinearRegression()\n",
        "model.fit(X_train, y_train)\n",
        "y_pred = model.predict(X_test)\n",
        "\n",
        "# Obliczenie błędu średniokwadratowego\n",
        "mse = mean_squared_error(y_test, y_pred)\n",
        "print(\"Błąd średniokwadratowy:\", mse)\n",
        "\n",
        "# Obliczenie współczynnika determinacji (R^2)\n",
        "r2 = r2_score(y_test, y_pred)\n",
        "print(\"Współczynnik determinacji:\", r2)"
      ],
      "metadata": {
        "colab": {
          "base_uri": "https://localhost:8080/"
        },
        "id": "cA-lZQQgrDjl",
        "outputId": "f5ea1cc8-e8b5-49ba-f58a-1cc69c09a275"
      },
      "execution_count": 12,
      "outputs": [
        {
          "output_type": "stream",
          "name": "stdout",
          "text": [
            "Błąd średniokwadratowy: 33596915.851361476\n",
            "Współczynnik determinacji: 0.7835929767120722\n"
          ]
        }
      ]
    }
  ]
}