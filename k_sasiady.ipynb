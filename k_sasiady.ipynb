{
  "nbformat": 4,
  "nbformat_minor": 0,
  "metadata": {
    "colab": {
      "provenance": [],
      "authorship_tag": "ABX9TyPnrbH9uCS5p5d2ScCtKQ2n",
      "include_colab_link": true
    },
    "kernelspec": {
      "name": "python3",
      "display_name": "Python 3"
    },
    "language_info": {
      "name": "python"
    }
  },
  "cells": [
    {
      "cell_type": "markdown",
      "metadata": {
        "id": "view-in-github",
        "colab_type": "text"
      },
      "source": [
        "<a href=\"https://colab.research.google.com/github/patrick251s/MachineLearning/blob/main/k_sasiady.ipynb\" target=\"_parent\"><img src=\"https://colab.research.google.com/assets/colab-badge.svg\" alt=\"Open In Colab\"/></a>"
      ]
    },
    {
      "cell_type": "code",
      "execution_count": 5,
      "metadata": {
        "id": "R16HNtOOOdIk",
        "colab": {
          "base_uri": "https://localhost:8080/"
        },
        "outputId": "545738de-2547-4c01-cd47-48c012897f78"
      },
      "outputs": [
        {
          "output_type": "stream",
          "name": "stdout",
          "text": [
            "Drive already mounted at /gdrive; to attempt to forcibly remount, call drive.mount(\"/gdrive\", force_remount=True).\n",
            "accuracy =  91.66666666666666\n",
            "[[11  1  0]\n",
            " [ 0 12  1]\n",
            " [ 1  0 10]]\n"
          ]
        }
      ],
      "source": [
        "import numpy as np\n",
        "import pandas as pd\n",
        "import matplotlib.pyplot as plt\n",
        "import xlrd as xd\n",
        "from google.colab import files\n",
        "from google.colab import drive\n",
        "from sklearn.model_selection import train_test_split\n",
        "from sklearn.neighbors import KNeighborsClassifier\n",
        "from sklearn.metrics import accuracy_score\n",
        "from sklearn import metrics\n",
        "\n",
        "drive.mount('/gdrive')\n",
        "myCsvFile = 'grains.csv'\n",
        "dir_Path = '/gdrive/My Drive/MojeStudia/Semestr VIII/PiPAN/Analiza danych/'\n",
        "df = pd.read_csv(dir_Path+myCsvFile)\n",
        "\n",
        "df_temp = df\n",
        "x = df_temp.drop(['group', 'compactness', 'area', 'perimeter'], axis=1)\n",
        "y = df.group.to_numpy()\n",
        "\n",
        "def Train(x, y, size):\n",
        "  x_train, x_test, y_train, y_test = train_test_split(x, y, test_size=size, random_state=42)\n",
        "  return x_train, x_test, y_train, y_test\n",
        "\n",
        "def Model(x_train, y_train, nn):\n",
        "  knn = KNeighborsClassifier(n_neighbors=nn) # k = 3\n",
        "  knn.fit(x_train, y_train)\n",
        "  y_pred = knn.predict(x_test)\n",
        "  return y_pred\n",
        "\n",
        "x_train, x_test, y_train, y_test = Train(x, y, 0.25)\n",
        "y_pred = Model(x_train, y_train, 3)\n",
        "accuracy = accuracy_score(y_test, y_pred)*100\n",
        "print(\"accuracy = \", accuracy)\n",
        "mtr = metrics.confusion_matrix(y_test, y_pred)\n",
        "print(mtr)"
      ]
    }
  ]
}